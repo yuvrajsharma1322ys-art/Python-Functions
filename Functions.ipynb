{
  "nbformat": 4,
  "nbformat_minor": 0,
  "metadata": {
    "colab": {
      "provenance": []
    },
    "kernelspec": {
      "name": "python3",
      "display_name": "Python 3"
    },
    "language_info": {
      "name": "python"
    }
  },
  "cells": [
    {
      "cell_type": "markdown",
      "source": [
        "# Functions"
      ],
      "metadata": {
        "id": "sF6aTWDa5Qjn"
      }
    },
    {
      "cell_type": "markdown",
      "source": [
        "1.\n",
        "\n",
        "- ** Function**\n",
        "\n",
        "  - A function is a block of code that performs a specific task.\n",
        "\n",
        "  - It is defined independently using the def keyword.\n",
        "\n",
        "  - It can be called directly by its name.\n",
        "\n",
        "  - It is not tied to any object or class.\n",
        "\n",
        "- **Example:**\n",
        "\n",
        "  - def add(a, b):\n",
        "  -  return a + b\n",
        "\n",
        "  - print(add(2, 3))   # Output: 5\n",
        "\n",
        "- **Method**\n",
        "\n",
        "  - A method is a function that belongs to a class or object.\n",
        "\n",
        "  - It is defined inside a class using the def keyword.\n",
        "\n",
        "  - It is called using the object of the class.\n",
        "\n",
        "  - It always takes self (for instance methods) or cls (for class methods) as the first parameter.\n",
        "\n",
        "-  **Example:**\n",
        "\n",
        "   - class Calculator:\n",
        "   - def add(self, a, b):\n",
        "   -     return a + b\n",
        "\n",
        "   - obj = Calculator()\n",
        "   - print(obj.add(2, 3))   # Output: 5\n"
      ],
      "metadata": {
        "id": "pp55SN8-5Vpk"
      }
    },
    {
      "cell_type": "markdown",
      "source": [
        "2. Explain the concept of function arguments and parameters in Python.\n",
        "\n",
        "-  Parameters are variables written inside the function definition which receive values.\n",
        "\n",
        "-  Arguments are the actual values passed to the function during a function call.\n",
        "\n",
        "-  Parameters act as placeholders inside the function definition.\n",
        "\n",
        "-   Arguments provide real data to these parameters when the function is invoked.\n",
        "\n",
        "-  Number of arguments must match with the number of parameters (except in case of default or variable-length arguments).\n",
        "\n",
        "-  Python supports different types of arguments:\n",
        "\n",
        "   - Positional Arguments\n",
        "\n",
        "   - Keyword Arguments\n",
        "\n",
        "   - Default Arguments\n",
        "\n",
        "   - Variable-length Arguments (*args, **kwargs)\n",
        "- Example\n",
        "    - def add(a, b):     # a and b → parameters\n",
        "    - return a + b\n",
        "\n",
        "   - print(add(5, 3))   # 5 and 3 → arguments\n"
      ],
      "metadata": {
        "id": "2jGIZycC5VmD"
      }
    },
    {
      "cell_type": "markdown",
      "source": [
        "3.  What are the different ways to define and call a function in Python?\n",
        "\n",
        "- A function in Python is defined using the def keyword or lambda expression.\n",
        "\n",
        "- It is called (executed) by writing the function name followed by parentheses (), optionally passing arguments."
      ],
      "metadata": {
        "id": "ZCDsGeLK9b-p"
      }
    },
    {
      "cell_type": "code",
      "source": [
        "# calling function without argument\n",
        "def say_hello():\n",
        "    print(\"Hello\")\n",
        "\n",
        "say_hello()    # Calling\n"
      ],
      "metadata": {
        "colab": {
          "base_uri": "https://localhost:8080/"
        },
        "id": "uEhC2yY29sXr",
        "outputId": "97b1218f-45cb-491a-c6e2-9db13788bbb8"
      },
      "execution_count": 4,
      "outputs": [
        {
          "output_type": "stream",
          "name": "stdout",
          "text": [
            "Hello\n"
          ]
        }
      ]
    },
    {
      "cell_type": "code",
      "source": [
        "# with argument\n",
        "\n",
        "def add(a, b):\n",
        "    return a + b\n",
        "\n",
        "print(add(3, 5))    # Calling with arguments\n"
      ],
      "metadata": {
        "colab": {
          "base_uri": "https://localhost:8080/"
        },
        "id": "nNC1h2869sP4",
        "outputId": "20dbbab1-8211-4970-a0ec-30849fbc1cdf"
      },
      "execution_count": 5,
      "outputs": [
        {
          "output_type": "stream",
          "name": "stdout",
          "text": [
            "8\n"
          ]
        }
      ]
    },
    {
      "cell_type": "code",
      "source": [
        "# Default argument\n",
        "\n",
        "def greet(name=\"User\"):\n",
        "    return f\"Hello, {name}\"\n",
        "\n",
        "print(greet())       # Uses default\n",
        "print(greet(\"Yug\"))  # Custom argument\n"
      ],
      "metadata": {
        "colab": {
          "base_uri": "https://localhost:8080/"
        },
        "id": "Woz7NJN89sEY",
        "outputId": "c5b8faf7-e3d3-4c7c-a984-9a7ef118d88c"
      },
      "execution_count": 6,
      "outputs": [
        {
          "output_type": "stream",
          "name": "stdout",
          "text": [
            "Hello, User\n",
            "Hello, Yug\n"
          ]
        }
      ]
    },
    {
      "cell_type": "code",
      "source": [
        "# with keyword argument\n",
        "\n",
        "def intro(name, age):\n",
        "    print(name, \"is\", age, \"years old\")\n",
        "\n",
        "intro(age=18, name=\"Yug\")\n"
      ],
      "metadata": {
        "colab": {
          "base_uri": "https://localhost:8080/"
        },
        "id": "GTLxsz9T-JtP",
        "outputId": "b5eaeab1-77b8-4dd9-bb02-ddf3f03781e0"
      },
      "execution_count": 9,
      "outputs": [
        {
          "output_type": "stream",
          "name": "stdout",
          "text": [
            "Yug is 18 years old\n"
          ]
        }
      ]
    },
    {
      "cell_type": "code",
      "source": [
        "# with variable length argument\n",
        "def show(*args):\n",
        "    print(args)\n",
        "\n",
        "show(1, 2, 3, 4)\n"
      ],
      "metadata": {
        "colab": {
          "base_uri": "https://localhost:8080/"
        },
        "id": "cEQZLD0_9rxG",
        "outputId": "4512df0b-98f5-4799-85e3-8fc1f3960d86"
      },
      "execution_count": 8,
      "outputs": [
        {
          "output_type": "stream",
          "name": "stdout",
          "text": [
            "(1, 2, 3, 4)\n"
          ]
        }
      ]
    },
    {
      "cell_type": "markdown",
      "source": [
        "4. What is the purpose of the `return` statement in a Python function?\n",
        "\n",
        "-  The return statement is used to send the result of a function back to the caller.\n",
        "\n",
        "- It terminates the function execution and provides a value (or object) to the place where the function was called.\n",
        "\n",
        "- It is used to return output from a function.\n",
        "\n",
        "- It can return a single value, multiple values (as tuple), or even no value.\n",
        "\n",
        "- Once return is executed, the function ends immediately.\n",
        "\n",
        "- Returned values can be stored in variables or used directly in expressions."
      ],
      "metadata": {
        "id": "Fu5iUhqX5Vjg"
      }
    },
    {
      "cell_type": "code",
      "source": [
        "# example returning a single value\n",
        "\n",
        "def square(x):\n",
        "    return x * x\n",
        "\n",
        "result = square(5)\n",
        "print(result)\n"
      ],
      "metadata": {
        "colab": {
          "base_uri": "https://localhost:8080/"
        },
        "id": "LjHu5U-r8x1b",
        "outputId": "711756c7-73b0-4c61-d232-c5d989a848b4"
      },
      "execution_count": 1,
      "outputs": [
        {
          "output_type": "stream",
          "name": "stdout",
          "text": [
            "25\n"
          ]
        }
      ]
    },
    {
      "cell_type": "code",
      "source": [
        "# example returning amultiple values\n",
        "def calc(a, b):\n",
        "    return a + b, a - b\n",
        "\n",
        "sum_, diff = calc(10, 3)\n",
        "print(sum_)\n",
        "print(diff)\n"
      ],
      "metadata": {
        "colab": {
          "base_uri": "https://localhost:8080/"
        },
        "id": "qyPo3SLq8xpa",
        "outputId": "9f5e85cd-4949-44a2-b682-29fb14e02f2a"
      },
      "execution_count": 2,
      "outputs": [
        {
          "output_type": "stream",
          "name": "stdout",
          "text": [
            "13\n",
            "7\n"
          ]
        }
      ]
    },
    {
      "cell_type": "code",
      "source": [
        "# Example of returning none\n",
        "def greet(name):\n",
        "    print(\"Hello,\", name)\n",
        "    return\n",
        "\n",
        "print(greet(\"Yug\"))\n"
      ],
      "metadata": {
        "colab": {
          "base_uri": "https://localhost:8080/"
        },
        "id": "EhfJizF98xbB",
        "outputId": "b1ffaf0b-480e-43fa-b81b-00728f3f2593"
      },
      "execution_count": 3,
      "outputs": [
        {
          "output_type": "stream",
          "name": "stdout",
          "text": [
            "Hello, Yug\n",
            "None\n"
          ]
        }
      ]
    },
    {
      "cell_type": "markdown",
      "source": [
        "5. What are iterators in Python and how do they differ from iterables?\n",
        "- Iterable: Any object capable of returning its members one at a time (e.g., list, tuple, string).\n",
        "\n",
        "- Iterator: An object which represents a stream of data; it remembers the current position and gives the next value using the __next__() method.\n",
        "\n",
        "**Iterables**\n",
        "\n",
        "- Objects that can be looped over.\n",
        "\n",
        "- Examples: list, tuple, set, string, dictionary.\n",
        "\n",
        "- Provide an __iter__() method that returns an iterator.\n",
        "\n",
        "**Iterators**\n",
        "\n",
        "- Objects used to iterate over an iterable.\n",
        "\n",
        "- Implement both __iter__() and __next__() methods.\n",
        "\n",
        "- Generate elements one by one, saving memory."
      ],
      "metadata": {
        "id": "XwjwmbIb5Vgd"
      }
    },
    {
      "cell_type": "code",
      "source": [
        "# Example of Iterable\n",
        "my_list = [1, 2, 3]\n",
        "for x in my_list:    # list is iterable\n",
        "    print(x)\n"
      ],
      "metadata": {
        "colab": {
          "base_uri": "https://localhost:8080/"
        },
        "id": "pWmjXT9e-_n5",
        "outputId": "739eebdc-5c79-431e-8e6d-e842cd5f209f"
      },
      "execution_count": 11,
      "outputs": [
        {
          "output_type": "stream",
          "name": "stdout",
          "text": [
            "1\n",
            "2\n",
            "3\n"
          ]
        }
      ]
    },
    {
      "cell_type": "code",
      "source": [
        "# Example of Iterators\n",
        "my_list = [1, 2, 3]\n",
        "it = iter(my_list)   # convert iterable to iterator\n",
        "\n",
        "print(next(it))   # 1\n",
        "print(next(it))   # 2\n",
        "print(next(it))   # 3\n"
      ],
      "metadata": {
        "colab": {
          "base_uri": "https://localhost:8080/"
        },
        "id": "h0mTRCt-_KyV",
        "outputId": "a44d4063-6fe1-4ca5-b50c-9c5b5997dc51"
      },
      "execution_count": 10,
      "outputs": [
        {
          "output_type": "stream",
          "name": "stdout",
          "text": [
            "1\n",
            "2\n",
            "3\n"
          ]
        }
      ]
    },
    {
      "cell_type": "markdown",
      "source": [
        "6. Explain the concept of generators in Python and how they are defined.\n",
        "\n",
        "- A generator in Python is a special type of function that returns an iterator object, which generates values one at a time using the yield keyword.\n",
        "\n",
        "- Unlike normal functions, a generator does not return all values at once; it produces values on demand.\n",
        "\n",
        "- Generators are defined like normal functions but use yield instead of return.\n",
        "\n",
        "- Each time yield is executed, the function \"pauses\" and resumes from the same state on the next call.\n",
        "\n",
        "- They are memory efficient because values are generated one by one.\n",
        "\n",
        "- Can be iterated using next() or in a for loop.\n",
        "\n"
      ],
      "metadata": {
        "id": "7tTN8MYD5Vdw"
      }
    },
    {
      "cell_type": "code",
      "source": [
        "# Simple Generator\n",
        "def count_up_to(n):\n",
        "    i = 1\n",
        "    while i <= n:\n",
        "        yield i     # produces next value\n",
        "        i += 1\n",
        "\n",
        "gen = count_up_to(3)\n",
        "print(next(gen))   # 1\n",
        "print(next(gen))   # 2\n",
        "print(next(gen))   # 3\n"
      ],
      "metadata": {
        "colab": {
          "base_uri": "https://localhost:8080/"
        },
        "id": "5na7hBQD_0AE",
        "outputId": "2653af0c-7a81-4621-8395-ea25bc76cacc"
      },
      "execution_count": 12,
      "outputs": [
        {
          "output_type": "stream",
          "name": "stdout",
          "text": [
            "1\n",
            "2\n",
            "3\n"
          ]
        }
      ]
    },
    {
      "cell_type": "code",
      "source": [
        "# using generator in loop\n",
        "for val in count_up_to(5):\n",
        "    print(val)\n"
      ],
      "metadata": {
        "colab": {
          "base_uri": "https://localhost:8080/"
        },
        "id": "7Zv7DcK__z5A",
        "outputId": "ac3d89a3-6bbf-42ee-c957-78bd825f6c93"
      },
      "execution_count": 13,
      "outputs": [
        {
          "output_type": "stream",
          "name": "stdout",
          "text": [
            "1\n",
            "2\n",
            "3\n",
            "4\n",
            "5\n"
          ]
        }
      ]
    },
    {
      "cell_type": "code",
      "source": [
        "# Generator Expression\n",
        "squares = (x*x for x in range(5))\n",
        "print(list(squares))"
      ],
      "metadata": {
        "colab": {
          "base_uri": "https://localhost:8080/"
        },
        "id": "LTmX_TNi_zya",
        "outputId": "a6f845b4-2c19-47aa-d4e8-8e88f15c2c01"
      },
      "execution_count": 14,
      "outputs": [
        {
          "output_type": "stream",
          "name": "stdout",
          "text": [
            "[0, 1, 4, 9, 16]\n"
          ]
        }
      ]
    },
    {
      "cell_type": "markdown",
      "source": [
        "7. What are the advantages of using generators over regular functions?\n",
        "\n",
        "- Memory Efficient – Don’t store all data at once, generate one by one.\n",
        "\n",
        "- Lazy Evaluation – Values are created only when needed.\n",
        "\n",
        "- Infinite Sequences – Can generate endless data without crashing.\n",
        "\n",
        "- Better Performance – Faster and lighter for large datasets.\n",
        "\n"
      ],
      "metadata": {
        "id": "WVNToeJr5VbG"
      }
    },
    {
      "cell_type": "code",
      "source": [
        "# Example\n",
        "\n",
        "def squares(n):\n",
        "    return [i*i for i in range(n)]\n",
        "\n",
        "def squares_gen(n):\n",
        "    for i in range(n):\n",
        "        yield i*i\n",
        "\n",
        "print(sum(squares(1000000)))      # High memory use\n",
        "print(sum(squares_gen(1000000)))  # Efficient\n"
      ],
      "metadata": {
        "colab": {
          "base_uri": "https://localhost:8080/"
        },
        "id": "5MqBFhPVBYv7",
        "outputId": "1f4c1d76-3a5b-4214-d843-b0304e78ab9e"
      },
      "execution_count": 15,
      "outputs": [
        {
          "output_type": "stream",
          "name": "stdout",
          "text": [
            "333332833333500000\n",
            "333332833333500000\n"
          ]
        }
      ]
    },
    {
      "cell_type": "markdown",
      "source": [
        "8. What is a lambda function in Python and when is it typically used?\n",
        "\n",
        "- A lambda function is a small anonymous function (without a name) defined using the keyword lambda. It can take any number of arguments but can only have one expression.\n",
        "\n",
        "**Syntax:**\n",
        "- lambda arguments: expression\n",
        "- When you need a short, simple function for a short time.\n",
        "\n",
        "- Commonly used with functions like map(), filter(), sorted(), and reduce().\n",
        "\n"
      ],
      "metadata": {
        "id": "HcQ0E9hp5VYR"
      }
    },
    {
      "cell_type": "code",
      "source": [
        "# Example\n",
        "# Normal function\n",
        "def add(x, y):\n",
        "    return x + y\n",
        "\n",
        "# Lambda function\n",
        "add_lambda = lambda x, y: x + y\n",
        "print(add_lambda(5, 3))   # 8\n",
        "\n",
        "# With map()\n",
        "nums = [1, 2, 3, 4]\n",
        "squares = list(map(lambda x: x*x, nums))\n",
        "print(squares)   # [1, 4, 9, 16]\n"
      ],
      "metadata": {
        "colab": {
          "base_uri": "https://localhost:8080/"
        },
        "id": "iD13EZ7bB5t5",
        "outputId": "ae49717b-d6d4-4d37-dc5d-09b2c7a55df4"
      },
      "execution_count": 16,
      "outputs": [
        {
          "output_type": "stream",
          "name": "stdout",
          "text": [
            "8\n",
            "[1, 4, 9, 16]\n"
          ]
        }
      ]
    },
    {
      "cell_type": "markdown",
      "source": [
        "9. Explain the purpose and usage of the `map()` function in Python.\n",
        "\n",
        "- map() function applies a given function to each item of an iterable (like list, tuple) and returns a map object (iterator).\n",
        "\n",
        "**Syntax:**\n",
        "\n",
        "- map(function, iterable)\n",
        "\n",
        "**Purpose**\n",
        "\n",
        "- To perform an operation on all elements of a sequence without writing a loop.\n",
        "\n",
        "Makes code shorter and cleaner."
      ],
      "metadata": {
        "id": "cdqfUigT5VVj"
      }
    },
    {
      "cell_type": "code",
      "source": [
        "# Example\n",
        "# Using normal function\n",
        "def square(x):\n",
        "    return x*x\n",
        "\n",
        "nums = [1, 2, 3, 4]\n",
        "result = map(square, nums)\n",
        "print(list(result))   # [1, 4, 9, 16]\n",
        "\n",
        "# Using lambda with map()\n",
        "nums = [1, 2, 3, 4]\n",
        "result = map(lambda x: x+10, nums)\n",
        "print(list(result))   # [11, 12, 13, 14]\n"
      ],
      "metadata": {
        "colab": {
          "base_uri": "https://localhost:8080/"
        },
        "id": "iQAFoP4HCSof",
        "outputId": "202c7423-dfce-4d3f-b637-442408dfb736"
      },
      "execution_count": 17,
      "outputs": [
        {
          "output_type": "stream",
          "name": "stdout",
          "text": [
            "[1, 4, 9, 16]\n",
            "[11, 12, 13, 14]\n"
          ]
        }
      ]
    },
    {
      "cell_type": "markdown",
      "source": [
        "10. What is the difference between `map()`, `reduce()`, and `filter()` functions in Python?\n",
        "\n",
        "**map()**\n",
        "- Purpose: Applies a function to each element.\n",
        "\n",
        "- Output: Returns all elements transformed.\n",
        "\n",
        "**filter()**\n",
        "\n",
        "- Purpose: Filters elements based on a condition (True/False).\n",
        "\n",
        "- Output: Returns only elements that satisfy the condition.\n",
        "\n",
        "**reduce() (from functools module)**\n",
        "\n",
        "\n",
        "- Purpose: Repeatedly applies a function to the iterable, reducing it to a single value.\n",
        "\n",
        "- Output: One final result.\n"
      ],
      "metadata": {
        "id": "pVPm1AQZ5VS4"
      }
    },
    {
      "cell_type": "code",
      "source": [
        "# Example map()\n",
        "nums = [1, 2, 3, 4]\n",
        "result = list(map(lambda x: x*2, nums))\n",
        "print(result)   # [2, 4, 6, 8]\n"
      ],
      "metadata": {
        "colab": {
          "base_uri": "https://localhost:8080/"
        },
        "id": "e7S8oQbhDBeP",
        "outputId": "81ea9978-734c-4bb9-ee99-6104d617b20d"
      },
      "execution_count": 20,
      "outputs": [
        {
          "output_type": "stream",
          "name": "stdout",
          "text": [
            "[2, 4, 6, 8]\n"
          ]
        }
      ]
    },
    {
      "cell_type": "code",
      "source": [
        "# Example Filter()\n",
        "nums = [1, 2, 3, 4, 5, 6]\n",
        "result = list(filter(lambda x: x%2==0, nums))\n",
        "print(result)   # [2, 4, 6]\n"
      ],
      "metadata": {
        "colab": {
          "base_uri": "https://localhost:8080/"
        },
        "id": "8CZDHtP6DBRR",
        "outputId": "f3bab96b-91f3-4082-905c-8c619ef6454f"
      },
      "execution_count": 19,
      "outputs": [
        {
          "output_type": "stream",
          "name": "stdout",
          "text": [
            "[2, 4, 6]\n"
          ]
        }
      ]
    },
    {
      "cell_type": "code",
      "source": [
        "# reduce() (from functools module)\n",
        "from functools import reduce\n",
        "nums = [1, 2, 3, 4]\n",
        "result = reduce(lambda x, y: x+y, nums)\n",
        "print(result)   # 10\n"
      ],
      "metadata": {
        "colab": {
          "base_uri": "https://localhost:8080/"
        },
        "id": "WeesBmkHDAfE",
        "outputId": "b89b0f03-7585-47d0-871b-0eb72c68bc72"
      },
      "execution_count": 18,
      "outputs": [
        {
          "output_type": "stream",
          "name": "stdout",
          "text": [
            "10\n"
          ]
        }
      ]
    },
    {
      "cell_type": "markdown",
      "source": [
        "11. Using pen & Paper write the internal mechanism for sum operation using  reduce function on this given\n",
        "list:[47,11,42,13];\n",
        "-  [Ans link](https://https://docs.google.com/document/d/1CQelpVSvrJHATionAPhfEQQAc3PXsGrkVt2FoTdmgk0/edit?usp=sharing)\n",
        "\n",
        "\n"
      ],
      "metadata": {
        "id": "wxh9Z_BO5VQU"
      }
    },
    {
      "cell_type": "code",
      "source": [
        "# 1. Write a Python function that takes a list of numbers as input and returns the sum of all even numbers in the list\n",
        "\n",
        "def sum_even_numbers(numbers):\n",
        "    even_sum = 0\n",
        "    for num in numbers:\n",
        "        if num % 2 == 0:\n",
        "            even_sum += num\n",
        "    return even_sum\n",
        "\n",
        "# Example\n",
        "nums = [1, 2, 3, 4, 5, 6]\n",
        "print(sum_even_numbers(nums))   # Output: 12\n"
      ],
      "metadata": {
        "colab": {
          "base_uri": "https://localhost:8080/"
        },
        "id": "DNCNNOErEpF3",
        "outputId": "b63a395f-cee1-41a0-e5d1-331695ba2686"
      },
      "execution_count": 21,
      "outputs": [
        {
          "output_type": "stream",
          "name": "stdout",
          "text": [
            "12\n"
          ]
        }
      ]
    },
    {
      "cell_type": "code",
      "source": [
        "# 2. Create a Python function that accepts a string and returns the reverse of that string.\n",
        "\n",
        "def reverse_string(s):\n",
        "    return s[::-1]\n",
        "\n",
        "# Example\n",
        "print(reverse_string(\"hello\"))   # Output: \"olleh\"\n"
      ],
      "metadata": {
        "colab": {
          "base_uri": "https://localhost:8080/"
        },
        "id": "AivRYbuVEpCb",
        "outputId": "5817ae18-45f6-40c1-92ec-77e2f00a136c"
      },
      "execution_count": 22,
      "outputs": [
        {
          "output_type": "stream",
          "name": "stdout",
          "text": [
            "olleh\n"
          ]
        }
      ]
    },
    {
      "cell_type": "code",
      "source": [
        "# 3. Implement a Python function that takes a list of integers and returns a new list containing the squares of each number.\n",
        "\n",
        "def square_list(numbers):\n",
        "    return [num**2 for num in numbers]\n",
        "\n",
        "# Example\n",
        "print(square_list([1, 2, 3, 4]))   # Output: [1, 4, 9, 16]\n"
      ],
      "metadata": {
        "colab": {
          "base_uri": "https://localhost:8080/"
        },
        "id": "8TmykNBIEo_-",
        "outputId": "a37dc644-e4bb-4088-f494-82d996c5a6c0"
      },
      "execution_count": 23,
      "outputs": [
        {
          "output_type": "stream",
          "name": "stdout",
          "text": [
            "[1, 4, 9, 16]\n"
          ]
        }
      ]
    },
    {
      "cell_type": "code",
      "source": [
        "# 4. Write a Python function that checks if a given number is prime or not from 1 to 200.\n",
        "\n",
        "def is_prime(n):\n",
        "    if n < 2:\n",
        "        return False\n",
        "    for i in range(2, int(n**0.5) + 1):\n",
        "        if n % i == 0:\n",
        "            return False\n",
        "    return True\n"
      ],
      "metadata": {
        "id": "0CtCcF7lEo9l"
      },
      "execution_count": 25,
      "outputs": []
    },
    {
      "cell_type": "code",
      "source": [
        "for num in range(1, 201):\n",
        "    print(num, \"is Prime\" if is_prime(num) else \"is Not Prime\")\n",
        "# Output result is very long so am not running this program, but i checked its working"
      ],
      "metadata": {
        "id": "Pht6wJSaEo4T"
      },
      "execution_count": null,
      "outputs": []
    },
    {
      "cell_type": "code",
      "source": [
        "# 5. Create an iterator class in Python that generates the Fibonacci sequence up to a specified number of terms.\n",
        "class FibonacciIterator:\n",
        "    def __init__(self, n):\n",
        "        self.n = n        # Number of terms to generate\n",
        "        self.index = 0    # Current index in iteration\n",
        "        self.a = 0        # First Fibonacci number\n",
        "        self.b = 1        # Second Fibonacci number\n",
        "\n",
        "    def __iter__(self):\n",
        "        return self\n",
        "\n",
        "    def __next__(self):\n",
        "        if self.index >= self.n:\n",
        "            raise StopIteration  # Stop iteration when n terms are generated\n",
        "        if self.index == 0:\n",
        "            self.index += 1\n",
        "            return self.a\n",
        "        elif self.index == 1:\n",
        "            self.index += 1\n",
        "            return self.b\n",
        "        else:\n",
        "            next_value = self.a + self.b\n",
        "            self.a, self.b = self.b, next_value\n",
        "            self.index += 1\n",
        "            return next_value\n",
        "\n",
        "# Example usage:\n",
        "fib = FibonacciIterator(10)  # Generate first 10 Fibonacci numbers\n",
        "for num in fib:\n",
        "    print(num, end=\" \")\n"
      ],
      "metadata": {
        "colab": {
          "base_uri": "https://localhost:8080/"
        },
        "id": "osWAtHQiEo16",
        "outputId": "ddb08967-ac21-44c3-978e-077659753570"
      },
      "execution_count": 27,
      "outputs": [
        {
          "output_type": "stream",
          "name": "stdout",
          "text": [
            "0 1 1 2 3 5 8 13 21 34 "
          ]
        }
      ]
    },
    {
      "cell_type": "code",
      "source": [
        "# 6. Write a generator function in Python that yields the powers of 2 up to a given exponent.\n",
        "\n",
        "def powers_of_two(max_exp):\n",
        "    \"\"\"\n",
        "    Generator that yields powers of 2 from 2^0 up to 2^max_exp.\n",
        "    \"\"\"\n",
        "    for i in range(max_exp + 1):\n",
        "        yield 2 ** i\n",
        "\n",
        "# Example usage:\n",
        "for value in powers_of_two(5):\n",
        "    print(value, end=\" \")\n"
      ],
      "metadata": {
        "colab": {
          "base_uri": "https://localhost:8080/"
        },
        "id": "EuTGQLQNEozH",
        "outputId": "2e97c68b-e6c9-45bb-a89c-54ed113cb8e2"
      },
      "execution_count": 28,
      "outputs": [
        {
          "output_type": "stream",
          "name": "stdout",
          "text": [
            "1 2 4 8 16 32 "
          ]
        }
      ]
    },
    {
      "cell_type": "code",
      "source": [
        "# 7. Implement a generator function that reads a file line by line and yields each line as a string.\n",
        "def read_file_lines(filename):\n",
        "    with open(filename, 'r') as file:\n",
        "        for line in file:\n",
        "            yield line  # Simply yield the line as it is\n",
        "\n",
        "# Example usage:\n",
        "for line in read_file_lines(\"example.txt\"):\n",
        "    print(line)\n",
        "\n"
      ],
      "metadata": {
        "id": "1qMnNRvgEot_"
      },
      "execution_count": null,
      "outputs": []
    },
    {
      "cell_type": "code",
      "source": [
        "# 8. Use a lambda function in Python to sort a list of tuples based on the second element of each tuple.\n",
        "\n",
        "# Sample list of tuples\n",
        "my_list = [(1, 5), (3, 2), (4, 8), (2, 1)]\n",
        "\n",
        "# Using sorted() with lambda to sort by second element\n",
        "sorted_list = sorted(my_list, key=lambda x: x[1])\n",
        "\n",
        "print(sorted_list)\n"
      ],
      "metadata": {
        "colab": {
          "base_uri": "https://localhost:8080/"
        },
        "id": "TYux19TTEor0",
        "outputId": "5a4f0a88-6640-477d-9b5d-4848dd125139"
      },
      "execution_count": 31,
      "outputs": [
        {
          "output_type": "stream",
          "name": "stdout",
          "text": [
            "[(2, 1), (3, 2), (1, 5), (4, 8)]\n"
          ]
        }
      ]
    },
    {
      "cell_type": "code",
      "source": [
        "# 9. Write a Python program that uses `map()` to convert a list of temperatures from Celsius to Fahrenheit.\n",
        "\n",
        "# List of temperatures in Celsius\n",
        "celsius_temps = [0, 20, 37, 100]\n",
        "\n",
        "# Function to convert Celsius to Fahrenheit\n",
        "def c_to_f(c):\n",
        "    return (c * 9/5) + 32\n",
        "\n",
        "# Using map() to convert the list\n",
        "fahrenheit_temps = list(map(c_to_f, celsius_temps))\n",
        "\n",
        "print(\"Celsius:\", celsius_temps)\n",
        "print(\"Fahrenheit:\", fahrenheit_temps)\n"
      ],
      "metadata": {
        "colab": {
          "base_uri": "https://localhost:8080/"
        },
        "id": "VPjEMyODEoop",
        "outputId": "452c66b7-fe0a-4834-c647-4a96bc265a3a"
      },
      "execution_count": 32,
      "outputs": [
        {
          "output_type": "stream",
          "name": "stdout",
          "text": [
            "Celsius: [0, 20, 37, 100]\n",
            "Fahrenheit: [32.0, 68.0, 98.6, 212.0]\n"
          ]
        }
      ]
    },
    {
      "cell_type": "code",
      "source": [
        "# 10. Create a Python program that uses `filter()` to remove all the vowels from a given string.\n",
        "\n",
        "# Given string\n",
        "text = \"Hello, World!\"\n",
        "\n",
        "# Function to check if a character is not a vowel\n",
        "def is_not_vowel(char):\n",
        "    return char.lower() not in 'aeiou'\n",
        "\n",
        "# Using filter() to remove vowels\n",
        "result = ''.join(filter(is_not_vowel, text))\n",
        "\n",
        "print(\"Original string:\", text)\n",
        "print(\"Without vowels:\", result)\n"
      ],
      "metadata": {
        "colab": {
          "base_uri": "https://localhost:8080/"
        },
        "id": "mR7_by_2JTEq",
        "outputId": "0ee40a7d-e67d-481c-f846-6fd383038470"
      },
      "execution_count": 33,
      "outputs": [
        {
          "output_type": "stream",
          "name": "stdout",
          "text": [
            "Original string: Hello, World!\n",
            "Without vowels: Hll, Wrld!\n"
          ]
        }
      ]
    },
    {
      "cell_type": "code",
      "source": [
        "\"\"\"\n",
        "11.  Imagine an accounting routine used in a book shop. It works on a list with sublists, which look like this:\n",
        "\n",
        "Write a Python program, which returns a list with 2-tuples. Each tuple consists of the order number and the\n",
        "product of the price per item and the quantity. The product should be increased by 10,- € if the value of the\n",
        "order is smaller than 100,00 €.\n",
        "\n",
        "Write a Python program using lambda and map\n",
        "\"\"\"\n",
        "# Sample data\n",
        "orders = [\n",
        "    [34587, \"Learning Python, Mark Lutz\", 4, 40.95],\n",
        "    [98762, \"Programming Python, Mark Lutz\", 5, 56.80],\n",
        "    [77226, \"Head First Python, Paul Barry\", 3, 32.95],\n",
        "    [88112, \"Einführung in Python3, Bernd Klein\", 3, 24.99]\n",
        "]\n",
        "\n",
        "# Use map with lambda to calculate total and apply the +10 rule\n",
        "result = list(map(lambda order: (order[0], order[2]*order[3] + 10 if order[2]*order[3] < 100 else order[2]*order[3]), orders))\n",
        "\n",
        "print(result)\n",
        "\n"
      ],
      "metadata": {
        "colab": {
          "base_uri": "https://localhost:8080/"
        },
        "id": "TVw05IQ7JS__",
        "outputId": "f67d104c-62e4-411f-f7db-c88186a81501"
      },
      "execution_count": 34,
      "outputs": [
        {
          "output_type": "stream",
          "name": "stdout",
          "text": [
            "[(34587, 163.8), (98762, 284.0), (77226, 108.85000000000001), (88112, 84.97)]\n"
          ]
        }
      ]
    },
    {
      "cell_type": "markdown",
      "source": [
        "#"
      ],
      "metadata": {
        "id": "oFkFCD4K5VNd"
      }
    }
  ]
}